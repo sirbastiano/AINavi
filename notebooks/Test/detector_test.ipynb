{
 "cells": [
  {
   "cell_type": "code",
   "execution_count": 1,
   "metadata": {},
   "outputs": [
    {
     "name": "stderr",
     "output_type": "stream",
     "text": [
      "/Users/robertodelprete/opt/anaconda3/envs/AINavi/lib/python3.8/site-packages/mmcv/__init__.py:20: UserWarning: On January 1, 2023, MMCV will release v2.0.0, in which it will remove components related to the training process and add a data transformation module. In addition, it will rename the package names mmcv to mmcv-lite and mmcv-full to mmcv. See https://github.com/open-mmlab/mmcv/blob/master/docs/en/compatibility.md for more details.\n",
      "  warnings.warn(\n"
     ]
    }
   ],
   "source": [
    "from mmdet.apis import init_detector, inference_detector, show_result_pyplot\n",
    "from pathlib import Path\n",
    "import numpy as np\n",
    "import mmcv\n",
    "import matplotlib.pyplot as plt\n",
    "import cv2"
   ]
  },
  {
   "cell_type": "code",
   "execution_count": null,
   "metadata": {},
   "outputs": [],
   "source": [
    "config_file = 'data/weights/.../Mask_RCNN_r50.py'\n",
    "checkpoint_file = 'data/weights/epoch_25.pth'\n",
    "# build the model from a config file and a checkpoint file\n",
    "model = init_detector(config_file, checkpoint_file, device='cpu')"
   ]
  },
  {
   "cell_type": "code",
   "execution_count": null,
   "metadata": {},
   "outputs": [],
   "source": [
    "img_path = 'data/images/.../D_2020-07-01_00-00-00'\n",
    "\n",
    "img_path = Path(img_path)\n",
    "img = cv2.imread(img_path.as_posix())\n",
    "shape = mmcv.imread(img_path).shape[0]\n",
    "result = inference_detector(model, img)\n",
    "out_file = f'/home/sirbastiano/Documenti/Scripts/MMDETv2/mmdetection/Images/SEASAR/D_'+img_path.stem + '.png'\n",
    "\n",
    "print(out_file)\n",
    "model.show_result(\n",
    "     img,\n",
    "     result,\n",
    "     score_thr=0.3,\n",
    "     show=True,\n",
    "     wait_time=0,\n",
    "     win_name=None,\n",
    "     bbox_color=(0, 255, 255),\n",
    "     text_color=(255, 255, 255),\n",
    "     thickness=5,\n",
    "     font_size=shape//40,\n",
    "     mask_color=(0, 255, 255),\n",
    "     out_file=out_file)"
   ]
  }
 ],
 "metadata": {
  "kernelspec": {
   "display_name": "AINavi",
   "language": "python",
   "name": "python3"
  },
  "language_info": {
   "codemirror_mode": {
    "name": "ipython",
    "version": 3
   },
   "file_extension": ".py",
   "mimetype": "text/x-python",
   "name": "python",
   "nbconvert_exporter": "python",
   "pygments_lexer": "ipython3",
   "version": "3.8.16"
  },
  "orig_nbformat": 4
 },
 "nbformat": 4,
 "nbformat_minor": 2
}
