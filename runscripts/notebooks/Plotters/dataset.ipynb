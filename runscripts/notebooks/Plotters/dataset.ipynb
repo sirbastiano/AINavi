{
 "cells": [
  {
   "cell_type": "markdown",
   "metadata": {
    "id": "Lkpo61bT66IG"
   },
   "source": [
    "# Procedure for creating Datasets\n",
    "The following must be runned before  run_training.ipyn. Data of DeepMoon project are exploited: masks for MRCNN are created from crater tables *.hdf5 files (available at: https://zenodo.org/record/1133969#.X4GfBpqxU08 ) \n",
    "\n",
    "Datasets are stocked in *.h5 and then imported in Google Drive, ready for training. "
   ]
  },
  {
   "cell_type": "markdown",
   "metadata": {
    "id": "V8-wU-ji60cq"
   },
   "source": [
    "### Initialization:\n",
    "Importing libraries"
   ]
  },
  {
   "cell_type": "code",
   "execution_count": null,
   "metadata": {
    "executionInfo": {
     "elapsed": 1595,
     "status": "ok",
     "timestamp": 1602411886453,
     "user": {
      "displayName": "Roberto Del Prete",
      "photoUrl": "https://lh3.googleusercontent.com/a-/AOh14GiYqyQMfmeApHgEsVAn2ExQBqcPACnyso-w_HtjAA=s64",
      "userId": "14875288664389037941"
     },
     "user_tz": -120
    },
    "id": "vrXSbtt67XZC"
   },
   "outputs": [],
   "source": [
    "import pandas as pd\n",
    "import h5py\n",
    "import numpy as np\n",
    "import cv2\n",
    "import tables\n",
    "import matplotlib.pyplot as plt"
   ]
  },
  {
   "cell_type": "markdown",
   "metadata": {
    "id": "utt0abGN7KSr"
   },
   "source": [
    "Path to files:"
   ]
  },
  {
   "cell_type": "code",
   "execution_count": null,
   "metadata": {
    "executionInfo": {
     "elapsed": 1595,
     "status": "ok",
     "timestamp": 1602411886457,
     "user": {
      "displayName": "Roberto Del Prete",
      "photoUrl": "https://lh3.googleusercontent.com/a-/AOh14GiYqyQMfmeApHgEsVAn2ExQBqcPACnyso-w_HtjAA=s64",
      "userId": "14875288664389037941"
     },
     "user_tz": -120
    },
    "id": "zonUgFkI6HL8"
   },
   "outputs": [],
   "source": [
    "zenodo_path = r'/media/sirbastiano/Volume E/LINUX/Zenodo'\n",
    "\n",
    "test_images_path = zenodo_path + '/test_images.hdf5'\n",
    "test_craters_path = zenodo_path + '/test_craters.hdf5'\n",
    "\n",
    "dev_images_path = zenodo_path + '/dev_images.hdf5'\n",
    "dev_craters_path = zenodo_path + '/dev_craters.hdf5'\n",
    "\n",
    "train_images_path = zenodo_path + '/train_images.hdf5'\n",
    "train_craters_path = zenodo_path + '/train_craters.hdf5'"
   ]
  },
  {
   "cell_type": "markdown",
   "metadata": {
    "id": "MV1Pi4627UPI"
   },
   "source": [
    "Reading craters tables and database images"
   ]
  },
  {
   "cell_type": "markdown",
   "metadata": {
    "id": "_qV_5dru7qDo"
   },
   "source": [
    "# Defining function for creating Masks"
   ]
  },
  {
   "cell_type": "code",
   "execution_count": null,
   "metadata": {},
   "outputs": [],
   "source": [
    "def create_mask(tab):\n",
    "    global mask  # SCOPE \n",
    "\n",
    "    x_c = tab['x']\n",
    "    y_c = tab['y']\n",
    "    r_c = tab['Diameter (pix)']/2\n",
    "    \n",
    "    # Initialization:\n",
    "    i=0\n",
    "    mask = np.empty([256, 256, 1], dtype=int)    \n",
    "    for raggio in r_c:              \n",
    "        # draw mask shape\n",
    "        new_mask = np.zeros((256,256,1), dtype=int)\n",
    "        new_mask = np.ascontiguousarray(new_mask, dtype=np.uint8)\n",
    "        center_coordinates = (int(x_c[i]), int(y_c[i]) )\n",
    "        radius = int(raggio)\n",
    "        color = 255\n",
    "        thickness = 2\n",
    "        new_mask = cv2.circle(new_mask, center_coordinates, radius, color, thickness)\n",
    "        mask = np.dstack((mask,new_mask))\n",
    "        i +=1\n",
    "    \n",
    "    return mask[:,:,1:]  # Pop out first element (empty)"
   ]
  },
  {
   "cell_type": "code",
   "execution_count": null,
   "metadata": {
    "colab": {
     "base_uri": "https://localhost:8080/",
     "height": 172
    },
    "executionInfo": {
     "elapsed": 724,
     "status": "ok",
     "timestamp": 1602411895242,
     "user": {
      "displayName": "Roberto Del Prete",
      "photoUrl": "https://lh3.googleusercontent.com/a-/AOh14GiYqyQMfmeApHgEsVAn2ExQBqcPACnyso-w_HtjAA=s64",
      "userId": "14875288664389037941"
     },
     "user_tz": -120
    },
    "id": "cc2qhNVvUlET",
    "outputId": "de6a6d7e-bc2f-456e-d25a-0fee1b930c94"
   },
   "outputs": [],
   "source": [
    "%cd /media/sirbastiano/Volume E/LINUX/Zenodo\n",
    "!ls"
   ]
  },
  {
   "cell_type": "code",
   "execution_count": null,
   "metadata": {
    "colab": {
     "base_uri": "https://localhost:8080/",
     "height": 533
    },
    "executionInfo": {
     "elapsed": 1113,
     "status": "error",
     "timestamp": 1602411906043,
     "user": {
      "displayName": "Roberto Del Prete",
      "photoUrl": "https://lh3.googleusercontent.com/a-/AOh14GiYqyQMfmeApHgEsVAn2ExQBqcPACnyso-w_HtjAA=s64",
      "userId": "14875288664389037941"
     },
     "user_tz": -120
    },
    "id": "yWLd9xsV67V4",
    "outputId": "6de9a8f6-edee-49fd-c3ee-f0a9b1e59b02"
   },
   "outputs": [],
   "source": [
    "dataset = pd.HDFStore(train_craters_path, 'r')\n",
    "train_images = h5py.File(train_images_path,'r')\n",
    "imgs = list(dataset.keys())"
   ]
  },
  {
   "cell_type": "code",
   "execution_count": null,
   "metadata": {
    "id": "fni-zTj-FUIY"
   },
   "outputs": [],
   "source": [
    "# Print table:\n",
    "d = dataset[imgs[1]]['Diameter (km)']\n",
    "d = np.array(d)\n",
    "arg = np.argmax(d)"
   ]
  },
  {
   "cell_type": "code",
   "execution_count": null,
   "metadata": {},
   "outputs": [],
   "source": [
    "print(arg)"
   ]
  },
  {
   "cell_type": "code",
   "execution_count": null,
   "metadata": {},
   "outputs": [],
   "source": [
    "dataset[imgs[1]]['Diameter (pix)'][117]"
   ]
  },
  {
   "cell_type": "code",
   "execution_count": null,
   "metadata": {
    "id": "G1hnLVKfDMhp"
   },
   "outputs": [],
   "source": [
    "# Show image:\n",
    "a = train_images['input_images'][1]\n",
    "plt.imshow(a, cmap='gray', vmin=60, vmax=250)"
   ]
  },
  {
   "cell_type": "code",
   "execution_count": null,
   "metadata": {},
   "outputs": [],
   "source": [
    "mask = create_mask(dataset[imgs[1]])\n",
    "mask.shape\n",
    "iteratore = iter(list(range(100)))\n",
    "x = next(iteratore)\n",
    "plt.imshow(mask[:,:,x])"
   ]
  },
  {
   "cell_type": "markdown",
   "metadata": {},
   "source": [
    "# Training dataset creation:"
   ]
  },
  {
   "cell_type": "code",
   "execution_count": null,
   "metadata": {},
   "outputs": [],
   "source": [
    "%cd /media/sirbastiano/Volume E/LINUX/DATASETS\n",
    "!ls"
   ]
  },
  {
   "cell_type": "code",
   "execution_count": null,
   "metadata": {
    "id": "VxVKXzg6gWIp"
   },
   "outputs": [],
   "source": [
    "train_dts = h5py.File('train_dts_full_thin2px.h5', 'w')\n",
    "# GROUP1: Input Masks(targets)\n",
    "tgt =  train_dts.create_group('input_targets')\n",
    "# GROUP2: Input Images\n",
    "images = train_dts.create_group('input_imgs')\n",
    "print(\"DATASET TRAIN CREATED\")"
   ]
  },
  {
   "cell_type": "code",
   "execution_count": null,
   "metadata": {
    "id": "cpVJ2XOmA3NC",
    "scrolled": true
   },
   "outputs": [],
   "source": [
    "# Let's put mask and imgs in this train dataset.\n",
    "count = 30000\n",
    "\n",
    "for i in range(count):\n",
    "    Mask = create_mask(dataset[imgs[i]])\n",
    "    tgt.create_dataset(str(i),  data = Mask, chunks=True, compression='gzip')\n",
    "    print(f\"Mask n.{i+1} of {count} completed with shape: {Mask.shape}\")\n",
    "    \n",
    "    images.create_dataset(str(i), data = train_images['input_images'][i], chunks=True, compression='gzip')\n",
    "    print(f\"Image n.{i+1} of {count} imported\\n\")\n",
    "train_dts.close()"
   ]
  },
  {
   "cell_type": "markdown",
   "metadata": {
    "id": "vmXqMxcZnvfe"
   },
   "source": [
    "# Now we have to create dataset for validation"
   ]
  },
  {
   "cell_type": "code",
   "execution_count": null,
   "metadata": {
    "id": "-giUutIwtSIB"
   },
   "outputs": [],
   "source": [
    "dataset = pd.HDFStore(dev_craters_path, 'r')\n",
    "train_images = h5py.File(dev_images_path,'r')\n",
    "imgs = list(dataset.keys())\n",
    "# Print first table:\n",
    "dataset[imgs[0]]"
   ]
  },
  {
   "cell_type": "code",
   "execution_count": null,
   "metadata": {
    "id": "S5SQLNjCtUN_"
   },
   "outputs": [],
   "source": [
    "create_dts = h5py.File('validation_dts_full_thin2px.h5', 'w')\n",
    "# GROUP1: Input Masks(targets)\n",
    "tgt =  create_dts.create_group('input_targets')\n",
    "# GROUP2: Input Images\n",
    "images = create_dts.create_group('input_imgs')"
   ]
  },
  {
   "cell_type": "code",
   "execution_count": null,
   "metadata": {
    "id": "9la_JY8Otmdd"
   },
   "outputs": [],
   "source": [
    "# Let's put mask and imgs in this valid dataset.\n",
    "count = 3000\n",
    "\n",
    "for i in range(count):\n",
    "    Mask = create_mask(dataset[imgs[i]])\n",
    "    tgt.create_dataset(str(i),  data = Mask, chunks=True, compression='gzip')\n",
    "    print(f\"Mask n.{i+1} of {count} completed with shape: {Mask.shape}\")\n",
    "    \n",
    "    images.create_dataset(str(i), data = train_images['input_images'][i], chunks=True, compression='gzip')\n",
    "    print(f\"Image n.{i+1} of {count} imported\\n\")\n",
    "create_dts.close()"
   ]
  },
  {
   "cell_type": "markdown",
   "metadata": {
    "id": "rqDTssQoRkLy"
   },
   "source": [
    "# Test Dataset creation\n"
   ]
  },
  {
   "cell_type": "code",
   "execution_count": null,
   "metadata": {
    "id": "fBYOxL8qSC98"
   },
   "outputs": [],
   "source": [
    "dataset = pd.HDFStore(test_craters_path, 'r')\n",
    "train_images = h5py.File(test_images_path,'r')\n",
    "imgs = list(dataset.keys())\n",
    "# Print first table:\n",
    "dataset[imgs[0]]"
   ]
  },
  {
   "cell_type": "code",
   "execution_count": null,
   "metadata": {
    "id": "pp0pHkPRSJm8"
   },
   "outputs": [],
   "source": [
    "create_dts = h5py.File('test_dts_full_thin2px.h5', 'w')\n",
    "# GROUP1: Input Masks(targets)\n",
    "tgt =  create_dts.create_group('input_targets')\n",
    "# GROUP2: Input Images\n",
    "images = create_dts.create_group('input_imgs')"
   ]
  },
  {
   "cell_type": "code",
   "execution_count": null,
   "metadata": {
    "id": "_rKUTLMSSLK_"
   },
   "outputs": [],
   "source": [
    "# Let's put mask and imgs in this test dataset.\n",
    "count = 3000\n",
    "\n",
    "for i in range(count):\n",
    "    Mask = create_mask(dataset[imgs[i]])\n",
    "    tgt.create_dataset(str(i),  data = Mask, chunks=True, compression='gzip')\n",
    "    print(f\"Mask n.{i+1} of {count} completed with shape: {Mask.shape}\")\n",
    "    \n",
    "    images.create_dataset(str(i), data = train_images['input_images'][i], chunks=True, compression='gzip')\n",
    "    print(f\"Image n.{i+1} of {count} imported\\n\")\n",
    "create_dts.close()"
   ]
  },
  {
   "cell_type": "code",
   "execution_count": null,
   "metadata": {},
   "outputs": [],
   "source": [
    "dir = r'/media/sirbastiano/Volume E/LINUX/DATASETS'\n",
    "data = h5py.File(dir+'/test_dts_full_thin2px.h5', 'r')"
   ]
  },
  {
   "cell_type": "code",
   "execution_count": null,
   "metadata": {},
   "outputs": [],
   "source": [
    "mask = data['input_targets']['0']\n",
    "plt.imshow(mask[:,:,8])"
   ]
  },
  {
   "cell_type": "code",
   "execution_count": null,
   "metadata": {},
   "outputs": [],
   "source": [
    "img = data['input_imgs']['0']\n",
    "plt.imshow(img)"
   ]
  }
 ],
 "metadata": {
  "colab": {
   "authorship_tag": "ABX9TyMRqDaIO0BVcoimIHZK9mvg",
   "collapsed_sections": [],
   "mount_file_id": "164wWweGDe-I0_lkiJbYNusFfGp6tFUaQ",
   "name": "create_datasets.ipynb",
   "provenance": []
  },
  "kernelspec": {
   "display_name": "crateri",
   "name": "crateri"
  },
  "language_info": {
   "codemirror_mode": {
    "name": "ipython",
    "version": 3
   },
   "file_extension": ".py",
   "mimetype": "text/x-python",
   "name": "python",
   "nbconvert_exporter": "python",
   "pygments_lexer": "ipython3",
   "version": "3.6.12-final"
  }
 },
 "nbformat": 4,
 "nbformat_minor": 1
}
